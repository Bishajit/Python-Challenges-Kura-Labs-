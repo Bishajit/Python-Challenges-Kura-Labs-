{
  "nbformat": 4,
  "nbformat_minor": 0,
  "metadata": {
    "anaconda-cloud": {},
    "kernelspec": {
      "name": "python3",
      "display_name": "Python 3"
    },
    "colab": {
      "name": "Copy of Day3_Python_Functions_Exercises_na.ipynb",
      "provenance": [],
      "include_colab_link": true
    },
    "language_info": {
      "name": "python"
    }
  },
  "cells": [
    {
      "cell_type": "markdown",
      "metadata": {
        "id": "view-in-github",
        "colab_type": "text"
      },
      "source": [
        "<a href=\"https://colab.research.google.com/github/Bishajit/Python-Challenges-Kura-Labs-/blob/main/Copy_of_Day3_Python_Functions_Exercises_na.ipynb\" target=\"_parent\"><img src=\"https://colab.research.google.com/assets/colab-badge.svg\" alt=\"Open In Colab\"/></a>"
      ]
    },
    {
      "cell_type": "markdown",
      "metadata": {
        "id": "7XOVmCs1klhH"
      },
      "source": [
        "<img src=\"https://i.imgur.com/X9R3e67.png\" style=\"float: left; margin: 20px; height: 55px\">\n",
        "\n",
        "## Practice Python Functions\n",
        "\n",
        "\n",
        "---"
      ]
    },
    {
      "cell_type": "code",
      "metadata": {
        "id": "f2AcAhmO4cnI"
      },
      "source": [
        "# def printMyName():\n",
        "#     your_name = input(\"Whats you name? \")\n",
        "\n",
        "#     return your_name\n",
        "# printMyName()\n",
        "\n",
        "# def printMyName(Name): #name should be a string \n",
        "#   return Name\n",
        "\n",
        "# printMyName(\"Bishajit\")\n",
        "\n",
        "# def printMyName(last_name): #name should be a string\n",
        "\n",
        "#     first_name = input(\"WHat's your first name \")\n",
        "#     print(\"Hey there\")\n",
        "\n",
        "#     return first_name + last_name\n",
        "\n",
        "# printMyName(\" Lodh\")\n",
        "\n",
        "# def printMyName(first_name,last_name): #name should be a string \n",
        " \n",
        "#   return first_name + last_name\n",
        "\n",
        "# printMyName(\"Bishajit\", \"Lodh\")\n",
        "\n",
        "# def printMyName(first_name,last_name): #name should be a string \n",
        "  \n",
        "#   name = first_name + last_name\n",
        "#   return name\n",
        "\n",
        "# printMyName(\"Bishajit \", \"Lodh\")\n",
        "\n",
        "# my_first_tuple = (1,2,3)\n",
        "# type(my_first_tuple)\n",
        "# my_first_tuple[1] = 1\n",
        "# print(my_first_tuple)\n",
        "\n"
      ],
      "execution_count": null,
      "outputs": []
    },
    {
      "cell_type": "markdown",
      "metadata": {
        "id": "gm8VPXYRklhL"
      },
      "source": [
        "### Resources - Potentially Helpful Functions\n",
        "\n",
        "* [Python exercises](https://learnpythonthehardway.org/book/)\n",
        "* [Dictionary Comprehension](https://docs.python.org/2/tutorial/datastructures.html#dictionaries)\n",
        "* [Enumerate](https://docs.python.org/2/library/functions.html#enumerate)\n",
        "* [Length](https://docs.python.org/2/library/functions.html#len)\n",
        "* [Int](https://docs.python.org/2/library/functions.html#int)\n",
        "* [List](https://docs.python.org/2/library/functions.html#list)"
      ]
    },
    {
      "cell_type": "markdown",
      "metadata": {
        "id": "s99Z9U-pklhN"
      },
      "source": [
        "---\n",
        "\n",
        "### 1. Write a function that takes the length of a side of a square as an argument and returns the area of the square."
      ]
    },
    {
      "cell_type": "code",
      "metadata": {
        "id": "SAz9y5iPklhO",
        "colab": {
          "base_uri": "https://localhost:8080/"
        },
        "outputId": "4835c2ef-8372-4b14-feed-d0090cf46c20"
      },
      "source": [
        "# A:\n",
        "def area_of_square(lenth):\n",
        "  area = lenth * lenth\n",
        "  return area \n",
        "\n",
        "area_of_square(3)\n"
      ],
      "execution_count": null,
      "outputs": [
        {
          "output_type": "execute_result",
          "data": {
            "text/plain": [
              "9"
            ]
          },
          "metadata": {
            "tags": []
          },
          "execution_count": 6
        }
      ]
    },
    {
      "cell_type": "markdown",
      "metadata": {
        "id": "6_XjAYxEklhO"
      },
      "source": [
        "---\n",
        "\n",
        "### 2. Write a function that takes the heigth and width of a triangle and returns the area."
      ]
    },
    {
      "cell_type": "code",
      "metadata": {
        "id": "-GWyJofZklhP",
        "colab": {
          "base_uri": "https://localhost:8080/"
        },
        "outputId": "79ebe6af-5d23-4dc9-9464-f6325126eb33"
      },
      "source": [
        "# A:def \n",
        "def triangle(heigth, width):\n",
        "  area = heigth * width\n",
        "  return area\n",
        "height= int(input())\n",
        "triangle(1,2)\n"
      ],
      "execution_count": null,
      "outputs": [
        {
          "output_type": "execute_result",
          "data": {
            "text/plain": [
              "2"
            ]
          },
          "metadata": {
            "tags": []
          },
          "execution_count": 2
        }
      ]
    },
    {
      "cell_type": "markdown",
      "metadata": {
        "id": "7fCPl3uhklhQ"
      },
      "source": [
        "---\n",
        "\n",
        "### 3. Write a function that takes a string as an argument and returns a tuple consisting of two elements:\n",
        "- **A list of all the characters in the string.** \n",
        "- **A count of the number of characters in the string.**"
      ]
    },
    {
      "cell_type": "code",
      "metadata": {
        "id": "zb_YkaIaklhQ",
        "colab": {
          "base_uri": "https://localhost:8080/"
        },
        "outputId": "da3d7aab-0dc4-47c6-a044-8e859a285b6a"
      },
      "source": [
        "# A:\n",
        "argument = str(input(\"please enter a argument:\" ))\n",
        "\n",
        "def \n"
      ],
      "execution_count": 1,
      "outputs": [
        {
          "output_type": "stream",
          "text": [
            "['Survived', 'Survived', 'Survived', 'Died', 'Died', 'Died']\n"
          ],
          "name": "stdout"
        }
      ]
    },
    {
      "cell_type": "markdown",
      "metadata": {
        "id": "waBcnbOQklhR"
      },
      "source": [
        "---\n",
        "\n",
        "### 4. Write a function that takes two integers, passed as strings, and returns the sum, difference, and product as a tuple (all values as integers)."
      ]
    },
    {
      "cell_type": "code",
      "metadata": {
        "id": "Pnt8zQt9klhR"
      },
      "source": [
        ""
      ],
      "execution_count": null,
      "outputs": []
    },
    {
      "cell_type": "markdown",
      "metadata": {
        "id": "W1asHH6tklhS"
      },
      "source": [
        "---\n",
        "\n",
        "### 5. Write a function that takes a list as the argument and returns a tuple consisting of two elements:\n",
        "- **A list with the items in reverse order.**  \n",
        "- **A list of the items in the original list that have an odd index.**"
      ]
    },
    {
      "cell_type": "code",
      "metadata": {
        "id": "SzLDdU0KklhS"
      },
      "source": [
        ""
      ],
      "execution_count": null,
      "outputs": []
    },
    {
      "cell_type": "markdown",
      "metadata": {
        "id": "rANcbrNMklhT"
      },
      "source": [
        "---\n",
        "\n",
        "### Optional Challenge Problem: Write a function that returns the score for a word.  The score of the word is the sum of the scores of its letters. Each letter's score is equal to it's position in the alphabet.\n",
        "\n",
        "So, for example:\n",
        "\n",
        "* A = 1, B = 2, C = 3, D = 4, E = 5\n",
        "* abe = 8 = (1 + 2 + 5)\n",
        "\n",
        "\n",
        "_Hint: The string library has a property_ `ascii_lowercase` _that can save some typing here._\n"
      ]
    },
    {
      "cell_type": "code",
      "metadata": {
        "collapsed": true,
        "id": "v0dnksYxklhT"
      },
      "source": [
        "# A:"
      ],
      "execution_count": null,
      "outputs": []
    }
  ]
}