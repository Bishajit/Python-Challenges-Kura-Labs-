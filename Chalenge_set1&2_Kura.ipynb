{
  "nbformat": 4,
  "nbformat_minor": 0,
  "metadata": {
    "colab": {
      "name": "Chalenge_set1&2_Kura.ipynb",
      "provenance": [],
      "include_colab_link": true
    },
    "kernelspec": {
      "name": "python3",
      "display_name": "Python 3"
    },
    "language_info": {
      "name": "python"
    }
  },
  "cells": [
    {
      "cell_type": "markdown",
      "metadata": {
        "id": "view-in-github",
        "colab_type": "text"
      },
      "source": [
        "<a href=\"https://colab.research.google.com/github/Bishajit/Python-Challenges-Kura-Labs-/blob/main/Chalenge_set1%262_Kura.ipynb\" target=\"_parent\"><img src=\"https://colab.research.google.com/assets/colab-badge.svg\" alt=\"Open In Colab\"/></a>"
      ]
    },
    {
      "cell_type": "markdown",
      "metadata": {
        "id": "EHZJTFE_36Gp"
      },
      "source": [
        "**Class Challenges (Set One)** **Fundamentals **"
      ]
    },
    {
      "cell_type": "markdown",
      "metadata": {
        "id": "bktzR4Z94AIu"
      },
      "source": [
        "1)\n",
        "Ask for the user’s first name and display the output message\n",
        "Hello [First Name] .\n",
        "\n"
      ]
    },
    {
      "cell_type": "code",
      "metadata": {
        "colab": {
          "base_uri": "https://localhost:8080/"
        },
        "id": "PVL_TUQ3p8D9",
        "outputId": "e49e6ff5-4566-427f-8d1b-a91f682b5d80"
      },
      "source": [
        "first_name = input('What is your name ')\n",
        "\n",
        "print(\"Hello\" + \" \" + first_name)"
      ],
      "execution_count": null,
      "outputs": [
        {
          "output_type": "stream",
          "text": [
            "What is your name asd\n",
            "Hello asd\n"
          ],
          "name": "stdout"
        }
      ]
    },
    {
      "cell_type": "markdown",
      "metadata": {
        "id": "P7iZQrUL4QpW"
      },
      "source": [
        "2)\n",
        "Ask for the user’s first name and then ask for their surname and display the output message\n",
        "Hello [First Name] [Surname].\n",
        "\n",
        "\n",
        "\n",
        "\n",
        "\n",
        "\n",
        "\n",
        "\n"
      ]
    },
    {
      "cell_type": "code",
      "metadata": {
        "id": "V8luoi1c5dG7",
        "colab": {
          "base_uri": "https://localhost:8080/"
        },
        "outputId": "7c8795fb-5020-4b62-841e-02fce421ef7b"
      },
      "source": [
        "\n",
        "first_name=input('What is your first name ')\n",
        "last_name=input('What is your last name ')\n",
        "print(\"Hello\" + \" \" +  first_name + \" \" + last_name)"
      ],
      "execution_count": null,
      "outputs": [
        {
          "output_type": "stream",
          "text": [
            "What is your first name asd\n",
            "What is your last name dsd\n",
            "Hello asd dsd\n"
          ],
          "name": "stdout"
        }
      ]
    },
    {
      "cell_type": "markdown",
      "metadata": {
        "id": "LUmlLu2v4gp2"
      },
      "source": [
        "3)\n",
        "Write code that will display the joke “What do you call a bear with no teeth?” and on the next line display the answer “A gummy bear!” Try to create it using only one line of code.\n",
        "\n"
      ]
    },
    {
      "cell_type": "code",
      "metadata": {
        "id": "qU6oaxlK5emZ",
        "colab": {
          "base_uri": "https://localhost:8080/"
        },
        "outputId": "bb2c6aa6-780e-4359-e301-1adfd094611a"
      },
      "source": [
        "print(\"What do you call a bear with no teeth?\\nA gummy bear!\")\n"
      ],
      "execution_count": null,
      "outputs": [
        {
          "output_type": "stream",
          "text": [
            "What do you call a bear with no teeth?\n",
            "A gummy bear!\n"
          ],
          "name": "stdout"
        }
      ]
    },
    {
      "cell_type": "markdown",
      "metadata": {
        "id": "jwD8SJa54nAM"
      },
      "source": [
        "4)\n",
        "Ask the user to enter two numbers. \n",
        "Add them together and display the answer as\n",
        "The total is [answer].\n",
        "\n"
      ]
    },
    {
      "cell_type": "code",
      "metadata": {
        "colab": {
          "base_uri": "https://localhost:8080/"
        },
        "id": "I_bRbEdevduL",
        "outputId": "f15e1f65-c33f-4b91-c7dc-d7fa168c705a"
      },
      "source": [
        "first_num = int(input('What is your first # '))\n",
        "last_num = int(input('What is your last # '))\n",
        "sum_of_num = first_num+last_num\n",
        "print(f\"the total is {sum_of_num}\")\n"
      ],
      "execution_count": null,
      "outputs": [
        {
          "output_type": "stream",
          "text": [
            "What is your first # 3\n",
            "What is your last # 4\n",
            "the total is 7\n"
          ],
          "name": "stdout"
        }
      ]
    },
    {
      "cell_type": "markdown",
      "metadata": {
        "id": "1E7CC19l4rb5"
      },
      "source": [
        "5)\n",
        "Ask the user to enter three numbers. \n",
        "Add together the first two numbers and then multiply this total by the third. \n",
        "Display the answer as The answer is\n",
        "[answer].\n",
        "\n",
        "\n"
      ]
    },
    {
      "cell_type": "code",
      "metadata": {
        "id": "fBWCQ3FY5uVo",
        "colab": {
          "base_uri": "https://localhost:8080/"
        },
        "outputId": "bb28380a-b121-4f6a-b5d3-a3faa1b2ee3a"
      },
      "source": [
        "first_num = int(input('What is your first # '))\n",
        "second_num = int(input('What is your last # '))\n",
        "third_num = int(input('What is your third # '))\n",
        "sum_of_num = first_num + second_num + third_num\n",
        "print(f\"the answer is {sum_of_num}\")\n"
      ],
      "execution_count": null,
      "outputs": [
        {
          "output_type": "stream",
          "text": [
            "What is your first # 33\n",
            "What is your last # 44\n",
            "What is your third # 55\n",
            "the answer is 132\n"
          ],
          "name": "stdout"
        }
      ]
    },
    {
      "cell_type": "markdown",
      "metadata": {
        "id": "oEQpSy3Y40ML"
      },
      "source": [
        "6) \n",
        "Ask how many slices of pizza the user started with and ask how many slices\n",
        "they have eaten.\n",
        "Work out how many slices they have left and display the answer in a user friendly\n",
        "format.\n",
        "\n"
      ]
    },
    {
      "cell_type": "code",
      "metadata": {
        "id": "6AAC55oy5roU",
        "colab": {
          "base_uri": "https://localhost:8080/"
        },
        "outputId": "40434f47-efd1-465e-e5e4-5fd5e8fdc2c4"
      },
      "source": [
        "start_slices = int(input('What is the number of slices you have started with? '))\n",
        "\n",
        "end_slices = int(input('how many slices have you eaten? ')) \n",
        "how_many_left = start_slices - end_slices\n",
        "print(f\"you have {how_many_left} slices left from your pizza \")"
      ],
      "execution_count": null,
      "outputs": [
        {
          "output_type": "stream",
          "text": [
            "What is the number of slices you have started with? 44\n",
            "how many slices have you eaten? 44\n",
            "you have 0 left from your pizza \n"
          ],
          "name": "stdout"
        }
      ]
    },
    {
      "cell_type": "markdown",
      "metadata": {
        "id": "db2fa_SS46yT"
      },
      "source": [
        "7)\n",
        "Ask the user for their name and their age. \n",
        "Add 1 to their age and display the output [Name] next birthday you\n",
        "will be [new age].\n",
        "\n"
      ]
    },
    {
      "cell_type": "code",
      "metadata": {
        "id": "Hy--PVwx5m_8",
        "colab": {
          "base_uri": "https://localhost:8080/"
        },
        "outputId": "da5f98f9-ae60-489a-afd7-1e4a92925319"
      },
      "source": [
        "name = (input('what is your name '))\n",
        "age = int(input('WHat is your age '))\n",
        "Next_age = age + 1\n",
        "print(f\"{name} for your next birthday, you will be {Next_age} years old\")\n"
      ],
      "execution_count": null,
      "outputs": [
        {
          "output_type": "stream",
          "text": [
            "what is your name fdf\n",
            "WHat is your age 44\n",
            "fdf for your next birthday, you will be 45 years old\n"
          ],
          "name": "stdout"
        }
      ]
    },
    {
      "cell_type": "markdown",
      "metadata": {
        "id": "wK4e2WBH5AMy"
      },
      "source": [
        "8) \n",
        "Ask for the total price of the bill, then ask how many diners there are. \n",
        "Divide the total bill by the number of diners and show how much each\n",
        "a person must pay.\n",
        "\n"
      ]
    },
    {
      "cell_type": "code",
      "metadata": {
        "id": "3tI9k_bL5oCS",
        "colab": {
          "base_uri": "https://localhost:8080/"
        },
        "outputId": "b8346057-cc35-4b10-e11e-97b14725087c"
      },
      "source": [
        "bill = int(input(\"What is the total price of the bill? \"))\n",
        "diners = int(input(\"What is the total amount of diners? \"))\n",
        "inidvidual_bill = bill / diners\n",
        "print(f\"your indivual bill is {inidvidual_bill} \")"
      ],
      "execution_count": null,
      "outputs": [
        {
          "output_type": "stream",
          "text": [
            "What is the total price of the bill? 33\n",
            "What is the total amount of diners? 2\n",
            "your indivual bill is 16.5 \n"
          ],
          "name": "stdout"
        }
      ]
    },
    {
      "cell_type": "markdown",
      "metadata": {
        "id": "ZQBlnJm45DaL"
      },
      "source": [
        "9)\n",
        "Write a program that will ask for a number of days and then will show how many hours, minutes and seconds are in that number of days.\n",
        "\n"
      ]
    },
    {
      "cell_type": "code",
      "metadata": {
        "id": "w01EtoO85pBm",
        "colab": {
          "base_uri": "https://localhost:8080/"
        },
        "outputId": "52799c02-d353-4b6e-c71e-33c52b4dfe6e"
      },
      "source": [
        "days = int(input('How many number of days? '))\n",
        "hours = days * 24\n",
        "minutes = days * 60\n",
        "seconds = minutes * 60\n",
        "\n",
        "print(f\"in {days} amount of days, converted to hours will be {hours} . And that amount of days converted to hours will be {minutes} minutes. Lastly that specific amount of days converted to seconds will be {seconds} seconds. \")"
      ],
      "execution_count": null,
      "outputs": [
        {
          "output_type": "stream",
          "text": [
            "How many number of days? 44\n",
            "in 44 amount of days, converted to hours will be 1056 . And that amount of days converted to hours will be 2640 minutes. Lastly that specific amount of days converted to seconds will be 158400 seconds. \n"
          ],
          "name": "stdout"
        }
      ]
    },
    {
      "cell_type": "markdown",
      "metadata": {
        "id": "5EOuJ5W75GF_"
      },
      "source": [
        "10)\n",
        "There are 2,204 pounds in a kilogram. Ask the user to enter a weight in kilograms and convert it to pounds.\n",
        "\n"
      ]
    },
    {
      "cell_type": "code",
      "metadata": {
        "id": "nz73-SQM5ou1",
        "colab": {
          "base_uri": "https://localhost:8080/"
        },
        "outputId": "674a99c8-7925-49cd-92fc-13be09efb14d"
      },
      "source": [
        "weight = float(input('What is your weight in kilograms? '))\n",
        "pounds = float(2204  * weight)\n",
        "print(f'Your weight converted from kilograms to pounds is {pounds} pounds ')\n"
      ],
      "execution_count": null,
      "outputs": [
        {
          "output_type": "stream",
          "text": [
            "What is your weight in kilograms? 5555\n",
            "Your weight converted from kilograms to pounds is 12243220.0 pounds \n"
          ],
          "name": "stdout"
        }
      ]
    },
    {
      "cell_type": "markdown",
      "metadata": {
        "id": "km3HSOtk5N5B"
      },
      "source": [
        "11) \n",
        "Task the user to enter a number over 100 and then enter a number under 10 and tell them how many times the smaller number goes into the larger number in a user-friendly format.\n"
      ]
    },
    {
      "cell_type": "code",
      "metadata": {
        "id": "sPempIqj5i79",
        "colab": {
          "base_uri": "https://localhost:8080/"
        },
        "outputId": "fe6dce54-da05-4a12-b471-fd5bc38ed13a"
      },
      "source": [
        "over_hundred = float(input(\"Enter a number over a 100: \"))\n",
        "under_10 = float(input('Enter a number under 10: '))\n",
        "divisible = float(over_hundred / under_10)\n",
        "\n",
        "if (over_hundred < 100 or under_10 > 10):\n",
        "    print(\"Both your first number has to be over 100 and  your second number has to be under 10. So please try again. \")\n",
        "    exit()\n",
        "else:\n",
        "    print(f\"The smaller number goes into the bigger number {divisible} many times \")"
      ],
      "execution_count": null,
      "outputs": [
        {
          "output_type": "stream",
          "text": [
            "Enter a number over a 100: 101\n",
            "Enter a number under 10: 11\n",
            "Both your first number has to be over 100 and  your second number has to be under 10. So please try again. \n"
          ],
          "name": "stdout"
        }
      ]
    },
    {
      "cell_type": "markdown",
      "metadata": {
        "id": "UydxzJKq5-Li"
      },
      "source": [
        "# Class Challenge (Set 2) If Statements \n"
      ]
    },
    {
      "cell_type": "markdown",
      "metadata": {
        "id": "SfQmyzbC6K3o"
      },
      "source": [
        "1)\n",
        "Ask for two numbers. If\n",
        "the first one is larger\n",
        "than the second, display\n",
        "the second number first\n",
        "and then the first\n",
        "number, otherwise show\n",
        "the first number first and\n",
        "then the second.\n"
      ]
    },
    {
      "cell_type": "code",
      "metadata": {
        "colab": {
          "base_uri": "https://localhost:8080/"
        },
        "id": "smkTAZRhuD_G",
        "outputId": "08a66298-ec10-4bcb-c94f-bf972b129d0f"
      },
      "source": [
        "first_num = int(input('What is your first # '))\n",
        "second_num = int(input('What is your second # '))\n",
        "\n",
        "if first_num > second_num:\n",
        "  print(second_num,first_num)\n",
        "else:\n",
        "  print(first_num,second_num)"
      ],
      "execution_count": null,
      "outputs": [
        {
          "output_type": "stream",
          "text": [
            "What is your first # 2\n",
            "What is your second # 3\n",
            "2 3\n"
          ],
          "name": "stdout"
        }
      ]
    },
    {
      "cell_type": "markdown",
      "metadata": {
        "id": "LWbTEnIK6fed"
      },
      "source": [
        "2) Ask the user to enter a\n",
        "number that is under 20. If they enter a\n",
        "number that is \n",
        "20 or\n",
        "more, display the\n",
        "message “Too high”,\n",
        "otherwise display\n",
        "“Thank you”.\n"
      ]
    },
    {
      "cell_type": "code",
      "metadata": {
        "colab": {
          "base_uri": "https://localhost:8080/"
        },
        "id": "JIIcM7u9vgCl",
        "outputId": "e8699634-e49b-4468-9b21-b51838409193"
      },
      "source": [
        "under_20 = float(input('Enter a number under 20: '))\n",
        "if under_20 > 20:\n",
        "    print(\"too high\")\n",
        "elif under_20 < 20:\n",
        "    print(\"thank you\")"
      ],
      "execution_count": null,
      "outputs": [
        {
          "output_type": "stream",
          "text": [
            "Enter a number under 20: 19\n",
            "thank you\n"
          ],
          "name": "stdout"
        }
      ]
    },
    {
      "cell_type": "markdown",
      "metadata": {
        "id": "gBy4pbDr6rB2"
      },
      "source": [
        "\n",
        "3) Ask the user to enter a\n",
        "number between 10 and 20\n",
        "(inclusive). If they enter a\n",
        "number within this range,\n",
        "display the message “Thank\n",
        "you”, otherwise display the\n",
        "message “Incorrect answer\"\n"
      ]
    },
    {
      "cell_type": "code",
      "metadata": {
        "colab": {
          "base_uri": "https://localhost:8080/"
        },
        "id": "7pG26qS6veBE",
        "outputId": "15f67834-261f-4fbc-8545-6ce0201f7948"
      },
      "source": [
        "num = int(input(\"enter a number between 10 and 20 (inclusive): \"))\n",
        "if 10 <= num <= 20:\n",
        "  print(\"Thank you\")\n",
        "else:\n",
        "  print(\"incorrect answer \")"
      ],
      "execution_count": null,
      "outputs": [
        {
          "output_type": "stream",
          "text": [
            "enter a number between 10 and 20 (inclusive): 15\n",
            "Thank you\n"
          ],
          "name": "stdout"
        }
      ]
    },
    {
      "cell_type": "markdown",
      "metadata": {
        "id": "x5ujUqCI6vr4"
      },
      "source": [
        "4) Ask the user to enter their favourite colour. If they enter “red”, “RED” or\n",
        "“Red” display the message “I like red too”, otherwise display the message\n",
        "“I don’t like [colour], I prefer red”.\n"
      ]
    },
    {
      "cell_type": "code",
      "metadata": {
        "colab": {
          "base_uri": "https://localhost:8080/"
        },
        "id": "u4BQDCfK2Wbn",
        "outputId": "7ecd24f1-111e-4e7f-8de8-d7aeab61576e"
      },
      "source": [
        "colour = input(\"What is your favorite colour: \")\n",
        "\n",
        "if colour == \"red\" or colour == \"RED\" or colour == \"Red\":\n",
        "    print(\"I like red too\")\n",
        "else:\n",
        "    print(f\"I don't like {colour}, I prefer red\")"
      ],
      "execution_count": null,
      "outputs": [
        {
          "output_type": "stream",
          "text": [
            "What is your favorite colour: red\n",
            "I like red too\n"
          ],
          "name": "stdout"
        }
      ]
    },
    {
      "cell_type": "markdown",
      "metadata": {
        "id": "G3ITFYxc62_r"
      },
      "source": [
        "5) Ask the user if it is raining and convert their answer to lower case\n",
        "so it doesn’t matter what case they type it in. If they answer “yes”,\n",
        "ask if it is windy. If they answer “yes” to this second question,\n",
        "display the answer “It is too windy for an umbrella”, otherwise\n",
        "display the message “Take an umbrella”. If they did not answer yes\n",
        "to the first question, display the answer “Enjoy your day”.\n"
      ]
    },
    {
      "cell_type": "code",
      "metadata": {
        "id": "zdaTxUaJ8BgE",
        "colab": {
          "base_uri": "https://localhost:8080/"
        },
        "outputId": "c6ab049f-ea46-4395-ddda-068c2a1766c6"
      },
      "source": [
        "raining = input(\"Is it raining? \").lower() \n",
        "\n",
        "if (raining == \"yes\"):\n",
        "    windy = input (\"is it windy? \").lower()\n",
        "    if (windy == \"yes\"):\n",
        "        print(\"It is too windy for an umbrella \")\n",
        "    elif (windy != \"yes\"):\n",
        "        print(\"it is too windy for an umbrella \")\n",
        "else: \n",
        "    print(\"Enjoy your day\")\n",
        "\n",
        "       \n",
        "       \n"
      ],
      "execution_count": null,
      "outputs": [
        {
          "output_type": "stream",
          "text": [
            "Is it raining? yes\n",
            "is it windy? no\n",
            "it is too windy for an umbrella \n"
          ],
          "name": "stdout"
        }
      ]
    },
    {
      "cell_type": "markdown",
      "metadata": {
        "id": "-WF-0xkM676x"
      },
      "source": [
        "6) Ask the user’s age. If they\n",
        "are 18 or over, display the\n",
        "message “You can vote”, if\n",
        "they are aged 17, display the\n",
        "message “You can learn to\n",
        "drive”, if they are 16, display\n",
        "the message “You can buy a\n",
        "lottery ticket”, if they are\n",
        "under 16, display the\n",
        "message “You can go Trickor-\n",
        "Treating”.\n"
      ]
    },
    {
      "cell_type": "code",
      "metadata": {
        "colab": {
          "base_uri": "https://localhost:8080/"
        },
        "id": "n-19VWqiKC8g",
        "outputId": "7cfa9052-1ae3-4564-83ea-aacacdf703da"
      },
      "source": [
        "age = int(input(\"Enter your age: \"))\n",
        "\n",
        "if (age >= 18):\n",
        "    print(\"You can vote\")\n",
        "elif (age >= 17):\n",
        "        print('You can learn to drive')\n",
        "elif (age >= 16):\n",
        "        print('You can buy a lottery ticket')\n",
        "elif (age < 16):\n",
        "        print('You can go Trickor- Treating ')\n",
        "      "
      ],
      "execution_count": null,
      "outputs": [
        {
          "output_type": "stream",
          "text": [
            "Enter your age: 18\n",
            "You can vote\n"
          ],
          "name": "stdout"
        }
      ]
    },
    {
      "cell_type": "markdown",
      "metadata": {
        "id": "ipS-yOG57Bif"
      },
      "source": [
        "7) Ask the user to enter a number. If it is under 10,\n",
        "display the message “Too low”, if their number is\n",
        "between 10 and 20, display “Correct”, otherwise\n",
        "display “Too high”.\n"
      ]
    },
    {
      "cell_type": "code",
      "metadata": {
        "colab": {
          "base_uri": "https://localhost:8080/"
        },
        "id": "u63izhCzPdRf",
        "outputId": "23110caf-b23c-44a3-bd13-47963c9d7f85"
      },
      "source": [
        "num = int(input(\"Enter your num: \"))\n",
        "\n",
        "if (num < 10):\n",
        "    print('too low')\n",
        "elif (10 <= num <= 20):\n",
        "    print(\"correct\")\n",
        "else:\n",
        "    print('Too high')"
      ],
      "execution_count": null,
      "outputs": [
        {
          "output_type": "stream",
          "text": [
            "Enter your num: 90\n",
            "Too high\n"
          ],
          "name": "stdout"
        }
      ]
    },
    {
      "cell_type": "markdown",
      "metadata": {
        "id": "ETj9m6px7Ihf"
      },
      "source": [
        "8) Ask the user to enter 1, 2 or 3. If they enter a 1, display\n",
        "the message “Thank you”, if they enter a 2, display\n",
        "“Well done”, if they enter a 3, display “Correct”. If\n",
        "they enter anything else, display “Error message”.\n",
        "\n"
      ]
    },
    {
      "cell_type": "code",
      "metadata": {
        "colab": {
          "base_uri": "https://localhost:8080/"
        },
        "id": "OZh6O0wrQOK1",
        "outputId": "f38a8d99-93f8-417c-d417-47fa15d4a142"
      },
      "source": [
        "num = int(input(\"Enter your num from either 1,2, or 3 \"))\n",
        "\n",
        "if (num == 1):\n",
        "    print('Thank you')\n",
        "elif (num == 2):\n",
        "    print(\"Well done\")\n",
        "elif (num == 3):\n",
        "    print(\"correct\")\n",
        "else:\n",
        "    print('Error message')"
      ],
      "execution_count": null,
      "outputs": [
        {
          "output_type": "stream",
          "text": [
            "Enter your num from either 1,2, or 3 7\n",
            "Error message\n"
          ],
          "name": "stdout"
        }
      ]
    },
    {
      "cell_type": "markdown",
      "metadata": {
        "id": "9zPCMAic7X4p"
      },
      "source": [
        "9) Ask the user to enter 1, 2 or 3. If they enter a 1, display\n",
        "the message “Thank you”, if they enter a 2, display\n",
        "“Well done”, if they enter a 3, display “Correct”. If\n",
        "they enter anything else, display “Error message”."
      ]
    }
  ]
}